{
 "cells": [
  {
   "cell_type": "code",
   "execution_count": 4,
   "metadata": {},
   "outputs": [
    {
     "name": "stdout",
     "output_type": "stream",
     "text": [
      "True population para = [6, 0, 0.5]\n",
      "Estimates by Scipy = (6.119864194761055, 0.015031150314687325, 0.494199960465604)\n",
      "Estimates by MLE = [6.11986036 0.01503127 0.49419998]\n"
     ]
    }
   ],
   "source": [
    "import numpy as np\n",
    "from scipy.stats import t\n",
    "from scipy.optimize import minimize\n",
    "\n",
    "#########################################\n",
    "# Generate some sample data from a t-distribution\n",
    "#########################################\n",
    "\n",
    "TruePara = [6, 0, 0.5]       # df, mu, scale\n",
    "T = 1000                     # number of data\n",
    "data = TruePara[1] + TruePara[2] * np.random.standard_t(TruePara[0], T)     # sample date generated\n",
    "\n",
    "#########################################\n",
    "# 1) Fit the t-distribution using Scipy\n",
    "#########################################\n",
    "\n",
    "EstimatePara_Scipy = t.fit(data)\n",
    "\n",
    "#########################################\n",
    "# 2) Fit the distribution by mannual log-likelihood maximisation approach\n",
    "#########################################\n",
    "\n",
    "x0 = [10, 0, 0.3]   # initial guesses of the parameters\n",
    "\n",
    "# bounds of each para\n",
    "x0_b = (2.00000001, None)     # df > 2\n",
    "x1_b = (None,None)          # unconstrained mean para\n",
    "x2_b = (0.00000001, None)   # +ve scale para\n",
    "bnds = (x0_b, x1_b, x2_b)\n",
    "\n",
    "# call the minimizer: objection function is the sum of log likelihood under the t-distribution\n",
    "solution = minimize(lambda x : -1 * np.sum(t.logpdf(data, x[0], x[1], x[2])), x0, bounds=bnds)\n",
    "EstimatePara_MLE = solution.x\n",
    "\n",
    "#########################################\n",
    "# Show the results\n",
    "#########################################\n",
    "print('True population para = ' + str(TruePara))\n",
    "print('Estimates by Scipy = ' + str(EstimatePara_Scipy))\n",
    "print('Estimates by MLE = ' + str(EstimatePara_MLE))"
   ]
  },
  {
   "cell_type": "code",
   "execution_count": null,
   "metadata": {},
   "outputs": [],
   "source": []
  },
  {
   "cell_type": "code",
   "execution_count": null,
   "metadata": {},
   "outputs": [],
   "source": []
  }
 ],
 "metadata": {
  "kernelspec": {
   "display_name": "Python 3",
   "language": "python",
   "name": "python3"
  },
  "language_info": {
   "codemirror_mode": {
    "name": "ipython",
    "version": 3
   },
   "file_extension": ".py",
   "mimetype": "text/x-python",
   "name": "python",
   "nbconvert_exporter": "python",
   "pygments_lexer": "ipython3",
   "version": "3.6.7"
  }
 },
 "nbformat": 4,
 "nbformat_minor": 2
}
